{
 "cells": [
  {
   "cell_type": "code",
   "execution_count": 1,
   "id": "c6e192cd",
   "metadata": {},
   "outputs": [],
   "source": [
    "queue = {\n",
    "    1:{}, \n",
    "    2:{},\n",
    "    3:{},\n",
    "    4:{},\n",
    "    5:{}\n",
    "}"
   ]
  },
  {
   "cell_type": "code",
   "execution_count": 4,
   "id": "318efdda",
   "metadata": {},
   "outputs": [],
   "source": [
    "class Hospital:\n",
    "    \n",
    "    def __init__(self):\n",
    "        self.name = input(\"Enter your name: \")\n",
    "        self.spec = int(input(\"Enter Specialization 1-5: \"))\n",
    "        self.sta = int(input(\"Enter status 0-2: \"))\n",
    "        \n",
    "    def specialization(self):\n",
    "        if 0 < self.spec < 6:\n",
    "            if -1 < self.sta < 3:\n",
    "                for i in range(1,6):\n",
    "                    if self.spec==i and len(queue[i])<10:\n",
    "                        queue[i].update({self.name:self.sta})\n",
    "                        \n",
    "                        \n",
    "                        queue[self.spec] = dict(sorted(queue[self.spec].items(), key=lambda item: item[1], reverse=True))\n",
    "                        \n",
    "                        \n",
    "                        print(f\"Specialization {self.spec}: {queue[i]}\")\n",
    "                    elif self.spec==i and len(queue[i])==10:\n",
    "                        print(f\"Specialization {self.spec} is full\")\n",
    "            else:\n",
    "                print(f\"Status-{self.sta} is out of range 0-2\")\n",
    "        else:\n",
    "            print(f\"Specialization {self.spec} does not exists\")"
   ]
  },
  {
   "cell_type": "code",
   "execution_count": 6,
   "id": "50f91118",
   "metadata": {
    "scrolled": false
   },
   "outputs": [
    {
     "name": "stdout",
     "output_type": "stream",
     "text": [
      "Enter your name: manu\n",
      "Enter Specialization 1-5: 1\n",
      "Enter status 0-2: 1\n",
      "Specialization 1: {'panu': 2, 'manu': 1}\n"
     ]
    }
   ],
   "source": [
    "f = Hospital()\n",
    "f.specialization()"
   ]
  },
  {
   "cell_type": "code",
   "execution_count": null,
   "id": "bdc26368",
   "metadata": {},
   "outputs": [],
   "source": []
  }
 ],
 "metadata": {
  "kernelspec": {
   "display_name": "Python 3 (ipykernel)",
   "language": "python",
   "name": "python3"
  },
  "language_info": {
   "codemirror_mode": {
    "name": "ipython",
    "version": 3
   },
   "file_extension": ".py",
   "mimetype": "text/x-python",
   "name": "python",
   "nbconvert_exporter": "python",
   "pygments_lexer": "ipython3",
   "version": "3.11.5"
  }
 },
 "nbformat": 4,
 "nbformat_minor": 5
}
